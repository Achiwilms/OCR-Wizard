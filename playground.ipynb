{
 "cells": [
  {
   "cell_type": "code",
   "execution_count": 4,
   "metadata": {},
   "outputs": [
    {
     "name": "stdout",
     "output_type": "stream",
     "text": [
      "False\n"
     ]
    }
   ],
   "source": [
    "file_path = \"/ocr/OCR_數位追尋者.pnf\"\n",
    "# file_path.endswith(\".pdf\")\n",
    "print(file_path.endswith(\".pdf\"))"
   ]
  },
  {
   "cell_type": "code",
   "execution_count": 1,
   "metadata": {},
   "outputs": [
    {
     "name": "stderr",
     "output_type": "stream",
     "text": [
      "Scanning contents: 100%|██████████| 1/1 [00:00<00:00, 502.19page/s]\n",
      "OCR: 100%|██████████| 1.0/1.0 [00:02<00:00,  2.97s/page]\n",
      "PDF/A conversion: 100%|██████████| 1/1 [00:00<00:00,  9.42page/s]\n",
      "Recompressing JPEGs: 0image [00:00, ?image/s]\n",
      "Deflating JPEGs: 100%|██████████| 1/1 [00:00<00:00, 151.65image/s]\n",
      "JBIG2: 0item [00:00, ?item/s]\n"
     ]
    }
   ],
   "source": [
    "import ocrmypdf\n",
    "\n",
    "if __name__ == '__main__':  \n",
    "    ocrmypdf.ocr('pdf_original/數位追尋者.pdf', 'pdf_ocr/數位追尋者.pdf', language=['eng', 'chi_tra'])"
   ]
  },
  {
   "cell_type": "code",
   "execution_count": 2,
   "metadata": {},
   "outputs": [
    {
     "name": "stdout",
     "output_type": "stream",
     "text": [
      "pdf_original/數位追尋者.pdf\n",
      "pdf_original/Digital_Seekers.pdf\n",
      "pdf_original/数位追寻者.pdf\n"
     ]
    }
   ],
   "source": [
    "import os\n",
    "import glob\n",
    "\n",
    "folder_path = 'pdf_original' \n",
    "\n",
    "# List all files in the folder matching a specific pattern, e.g., all .txt files\n",
    "files = glob.glob(os.path.join(folder_path, '*.pdf'))\n",
    "\n",
    "for file in files:\n",
    "    # Process each file in the folder\n",
    "    print(file)\n"
   ]
  }
 ],
 "metadata": {
  "kernelspec": {
   "display_name": "Python 3",
   "language": "python",
   "name": "python3"
  },
  "language_info": {
   "codemirror_mode": {
    "name": "ipython",
    "version": 3
   },
   "file_extension": ".py",
   "mimetype": "text/x-python",
   "name": "python",
   "nbconvert_exporter": "python",
   "pygments_lexer": "ipython3",
   "version": "3.10.12"
  }
 },
 "nbformat": 4,
 "nbformat_minor": 2
}
